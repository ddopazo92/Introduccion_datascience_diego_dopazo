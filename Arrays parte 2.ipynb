{
  "nbformat": 4,
  "nbformat_minor": 0,
  "metadata": {
    "colab": {
      "provenance": [],
      "authorship_tag": "ABX9TyMS+yV4JbDdavNmYroLgF7R",
      "include_colab_link": true
    },
    "kernelspec": {
      "name": "python3",
      "display_name": "Python 3"
    },
    "language_info": {
      "name": "python"
    }
  },
  "cells": [
    {
      "cell_type": "markdown",
      "metadata": {
        "id": "view-in-github",
        "colab_type": "text"
      },
      "source": [
        "<a href=\"https://colab.research.google.com/github/ddopazo92/Introduccion_datascience_diego_dopazo/blob/main/Arrays%20parte%202.ipynb\" target=\"_parent\"><img src=\"https://colab.research.google.com/assets/colab-badge.svg\" alt=\"Open In Colab\"/></a>"
      ]
    },
    {
      "cell_type": "code",
      "execution_count": 155,
      "metadata": {
        "colab": {
          "base_uri": "https://localhost:8080/"
        },
        "id": "7mYCfeEwcynf",
        "outputId": "9d5f55ef-9c26-4b60-cef1-f2916f247aed"
      },
      "outputs": [
        {
          "output_type": "stream",
          "name": "stdout",
          "text": [
            "[ 0  1  2  3  4  5  6  7  8  9 10 11 12 13 14 15 16 17 18 19]\n"
          ]
        }
      ],
      "source": [
        "import numpy as np\n",
        "\n",
        "contenido = np.arange(0,20)\n",
        "\n",
        "filas_columnas = np.array(contenido)\n",
        "\n",
        "print(filas_columnas)"
      ]
    },
    {
      "cell_type": "code",
      "source": [
        "import numpy as np\n",
        "array_secuencial = np.arange(0,10,2) ##los primeros dos numeros marcan el rango elegido, y el 2 indica que los numeros elegidos tendras una diferencia de dos\n",
        "array_aleatorio = np.random.randint(0,10, size=(5,5)) ##elige numeros aleatorios dentro del rango elegido, y el tamaño de la matriz(tabla) va definida en size\n",
        "print (array_secuencial)\n",
        "print (array_aleatorio)\n",
        "print(array_secuencial.dtype)"
      ],
      "metadata": {
        "colab": {
          "base_uri": "https://localhost:8080/"
        },
        "id": "G46Ymqa8gGAd",
        "outputId": "cf685254-bfc6-4b99-cb76-9bf5af2a4cf5"
      },
      "execution_count": 49,
      "outputs": [
        {
          "output_type": "stream",
          "name": "stdout",
          "text": [
            "[0 2 4 6 8]\n",
            "[[5 7 3 7 1]\n",
            " [3 6 4 4 4]\n",
            " [2 3 3 3 7]\n",
            " [8 7 3 2 2]\n",
            " [2 3 4 7 1]]\n",
            "int64\n"
          ]
        }
      ]
    },
    {
      "cell_type": "code",
      "source": [
        "import numpy as np\n",
        "\n",
        "palabras_array = np.array([\"Lunes\",\"martes\",\"miercoles\",\"jueves\",\"viernes\",\"sabado\",\"domingo\"])\n",
        "\n",
        "palabras_array = np.random.choice(palabras_array, size=(5,7)) ##el contenido de palabras_array con random.choice hace que elija de forma aleatoria el orden del contenido del array\n",
        "\n",
        "print(palabras_array[1,1]) ##el primer numero elige en este caso la primera fila 1 de 5, creada en el random.choice, y el segundo elige la posicion del valor requerido, en este caso el 1 inidca la segunda posicion\n",
        "print(palabras_array.dtype) ##tipo de dato utilizdo en el array\n",
        "print(palabras_array.shape) ##como se omprende tu array, filas/columnas\n",
        "print(palabras_array.size)  ##cuantos espacios son utilizados, en el caso de las cadenas de texto, cuenta cada caracter eso incluye los espacios"
      ],
      "metadata": {
        "colab": {
          "base_uri": "https://localhost:8080/"
        },
        "id": "nIs0MsAHgFw-",
        "outputId": "42a34018-8d5f-4043-a31c-9da111c017ee"
      },
      "execution_count": 51,
      "outputs": [
        {
          "output_type": "stream",
          "name": "stdout",
          "text": [
            "martes\n",
            "<U9\n",
            "(5, 7)\n",
            "35\n"
          ]
        }
      ]
    },
    {
      "cell_type": "markdown",
      "source": [
        "### **Crear un array que calcule el promedio**"
      ],
      "metadata": {
        "id": "d0ouDBJqpldh"
      }
    },
    {
      "cell_type": "code",
      "source": [
        "import numpy as np\n",
        "\n",
        "array_numeros_random = np.random.randint(0,100,size=9)\n",
        "\n",
        "promedio = np.mean(array_numeros_random)\n",
        "\n",
        "print(array_numeros_random)\n",
        "print(\"el promedio del array es:\",promedio)"
      ],
      "metadata": {
        "colab": {
          "base_uri": "https://localhost:8080/"
        },
        "id": "LvnmO-rCpvrH",
        "outputId": "f9253731-255f-4bf5-bdc6-50d7a8341ce2"
      },
      "execution_count": 163,
      "outputs": [
        {
          "output_type": "stream",
          "name": "stdout",
          "text": [
            "[27 63 89 13 57 88 83 66 24]\n",
            "el promedio del array es: 56.666666666666664\n"
          ]
        }
      ]
    },
    {
      "cell_type": "markdown",
      "source": [
        "**Ubicar el elemento central de un array**"
      ],
      "metadata": {
        "id": "4LNN2Pf2sMfx"
      }
    },
    {
      "cell_type": "code",
      "source": [
        "import numpy as np\n",
        "\n",
        "mediana = np.median(contenido)\n",
        "\n",
        "print(mediana)"
      ],
      "metadata": {
        "colab": {
          "base_uri": "https://localhost:8080/"
        },
        "id": "dUlDi4RvsZz0",
        "outputId": "ee9d6dcc-3dea-4520-9340-9d51675d58a7"
      },
      "execution_count": 164,
      "outputs": [
        {
          "output_type": "stream",
          "name": "stdout",
          "text": [
            "56.666666666666664\n"
          ]
        }
      ]
    }
  ]
}