{
  "nbformat": 4,
  "nbformat_minor": 0,
  "metadata": {
    "colab": {
      "provenance": [],
      "authorship_tag": "ABX9TyOzuPwz5W9LHLq5QxtKgI9M",
      "include_colab_link": true
    },
    "kernelspec": {
      "name": "python3",
      "display_name": "Python 3"
    },
    "language_info": {
      "name": "python"
    }
  },
  "cells": [
    {
      "cell_type": "markdown",
      "metadata": {
        "id": "view-in-github",
        "colab_type": "text"
      },
      "source": [
        "<a href=\"https://colab.research.google.com/github/ddopazo92/Introduccion_datascience_diego_dopazo/blob/main/Matrices%20y%20algebra%20%20lineal.ipynb\" target=\"_parent\"><img src=\"https://colab.research.google.com/assets/colab-badge.svg\" alt=\"Open In Colab\"/></a>"
      ]
    },
    {
      "cell_type": "markdown",
      "source": [
        "# **CLASE 03**"
      ],
      "metadata": {
        "id": "3ckTFkldmsen"
      }
    },
    {
      "cell_type": "markdown",
      "source": [
        "# Numpy"
      ],
      "metadata": {
        "id": "opdwWqLN4HPG"
      }
    },
    {
      "cell_type": "code",
      "execution_count": null,
      "metadata": {
        "colab": {
          "base_uri": "https://localhost:8080/"
        },
        "id": "jG2i3Oa4mq8-",
        "outputId": "82af5afb-fe69-479f-f6da-c79d87a8d9f7"
      },
      "outputs": [
        {
          "output_type": "stream",
          "name": "stdout",
          "text": [
            "[11 22 33]\n",
            "[20 40 60]\n",
            "[1 4 9]\n"
          ]
        }
      ],
      "source": [
        "import numpy as np\n",
        "\n",
        "a = np.array([10, 20, 30])\n",
        "b = np.array([1, 2, 3])\n",
        "\n",
        "\n",
        "\n",
        "print(a + b)\n",
        "print(a * 2)\n",
        "print(b**2) ##potencia"
      ]
    },
    {
      "cell_type": "code",
      "source": [
        "import numpy as np\n",
        "\n",
        "A = np.array([[1, 2],\n",
        "              [3, 4]]) ##un array con dos filas, 1 y 2 en la primera, 3 y 4 en la segunda\n",
        "\n",
        "print(A.T) ## T = transpuesta que quiere decir que la fila 0 (en este caso 1 y 2)\n",
        "           ## se convierte en columna entonces la fila 0 pasa a ser 1 y 3 porque el 2 queda por debajo del 1, siendo ahora una columna\n",
        "\n",
        "print(np.linalg.inv(A))\n",
        "\n",
        "B = np.array([[2, 6],\n",
        "              [0, 8]]) ## producto matricial es el primer elemento de la fila A (1) por el primer elemento de la primera columna B (2) + el segundo elemento del primera fila  A(2)\n",
        "                      ## por segundo elemento de la primera columna de B(6), despues es el primer elemento de la fila (A) multiplicado por el primer elemento de la segunda columna B (6)\n",
        "                      ## sumado a el segundo elemento de la primera fila (A) = 2 multiplicado por el segundo elemento de la segunda columna B, y despues realiza lo mismo con la fila dos del array A\n",
        "\n",
        "print(np.dot(A, B))"
      ],
      "metadata": {
        "colab": {
          "base_uri": "https://localhost:8080/"
        },
        "id": "_HWl_EZNn0B1",
        "outputId": "ec23b605-0436-41ee-9a55-f6994cf27fa5"
      },
      "execution_count": null,
      "outputs": [
        {
          "output_type": "stream",
          "name": "stdout",
          "text": [
            "[[1 3]\n",
            " [2 4]]\n",
            "[[-2.   1. ]\n",
            " [ 1.5 -0.5]]\n",
            "[[ 2 22]\n",
            " [ 6 50]]\n"
          ]
        }
      ]
    },
    {
      "cell_type": "code",
      "source": [],
      "metadata": {
        "id": "9IMw0colpgnf"
      },
      "execution_count": null,
      "outputs": []
    }
  ]
}