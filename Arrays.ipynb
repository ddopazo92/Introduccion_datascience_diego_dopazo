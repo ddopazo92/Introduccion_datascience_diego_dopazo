{
  "nbformat": 4,
  "nbformat_minor": 0,
  "metadata": {
    "colab": {
      "provenance": [],
      "authorship_tag": "ABX9TyMu/Ei9w6jwSC5k1a//ys08",
      "include_colab_link": true
    },
    "kernelspec": {
      "name": "python3",
      "display_name": "Python 3"
    },
    "language_info": {
      "name": "python"
    }
  },
  "cells": [
    {
      "cell_type": "markdown",
      "metadata": {
        "id": "view-in-github",
        "colab_type": "text"
      },
      "source": [
        "<a href=\"https://colab.research.google.com/github/ddopazo92/Introduccion_datascience_diego_dopazo/blob/main/Arrays.ipynb\" target=\"_parent\"><img src=\"https://colab.research.google.com/assets/colab-badge.svg\" alt=\"Open In Colab\"/></a>"
      ]
    },
    {
      "cell_type": "code",
      "execution_count": 21,
      "metadata": {
        "colab": {
          "base_uri": "https://localhost:8080/"
        },
        "id": "7mYCfeEwcynf",
        "outputId": "4bf75fae-8f8d-4da4-8ef3-5559fdd7bd42"
      },
      "outputs": [
        {
          "output_type": "stream",
          "name": "stdout",
          "text": [
            "[3 3]\n"
          ]
        }
      ],
      "source": [
        "import numpy as np\n",
        "\n",
        "contenido = np.array([1,2,3,4,5])\n",
        "\n",
        "filas_columnas = np.full(2,3)\n",
        "\n",
        "print(filas_columnas)"
      ]
    },
    {
      "cell_type": "code",
      "source": [
        "import numpy as np\n",
        "array_secuencial = np.arange(0,10,2) ##los primeros dos numeros marcan el rango elegido, y el 2 indica que los numeros elegidos tendras una diferencia de dos\n",
        "array_aleatorio = np.random.randint(0,10, size=(5,5)) ##elige numeros aleatorios dentro del rango elegido, y el tamaño de la matriz(tabla) va definida en size\n",
        "print (array_secuencial)\n",
        "print (array_aleatorio)"
      ],
      "metadata": {
        "colab": {
          "base_uri": "https://localhost:8080/"
        },
        "id": "G46Ymqa8gGAd",
        "outputId": "1e645830-9896-4dcb-d44a-4a5b37d8adc2"
      },
      "execution_count": 26,
      "outputs": [
        {
          "output_type": "stream",
          "name": "stdout",
          "text": [
            "[0 2 4 6 8]\n",
            "[[2 1 8 3 8]\n",
            " [6 2 3 7 0]\n",
            " [7 9 5 2 0]\n",
            " [2 5 2 0 4]\n",
            " [9 7 1 0 0]]\n"
          ]
        }
      ]
    },
    {
      "cell_type": "code",
      "source": [],
      "metadata": {
        "id": "nIs0MsAHgFw-"
      },
      "execution_count": null,
      "outputs": []
    }
  ]
}