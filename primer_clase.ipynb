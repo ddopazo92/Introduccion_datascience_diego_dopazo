{
  "nbformat": 4,
  "nbformat_minor": 0,
  "metadata": {
    "colab": {
      "provenance": [],
      "toc_visible": true,
      "authorship_tag": "ABX9TyMK5GmzRtO5wcItscAmXViT",
      "include_colab_link": true
    },
    "kernelspec": {
      "name": "python3",
      "display_name": "Python 3"
    },
    "language_info": {
      "name": "python"
    }
  },
  "cells": [
    {
      "cell_type": "markdown",
      "metadata": {
        "id": "view-in-github",
        "colab_type": "text"
      },
      "source": [
        "<a href=\"https://colab.research.google.com/github/ddopazo92/Introduccion_datascience_diego_dopazo/blob/main/primer_clase.ipynb\" target=\"_parent\"><img src=\"https://colab.research.google.com/assets/colab-badge.svg\" alt=\"Open In Colab\"/></a>"
      ]
    },
    {
      "cell_type": "markdown",
      "source": [
        "funciones"
      ],
      "metadata": {
        "id": "dJNoGek54q9F"
      }
    },
    {
      "cell_type": "code",
      "execution_count": null,
      "metadata": {
        "colab": {
          "base_uri": "https://localhost:8080/"
        },
        "id": "ZKCJekHN4onL",
        "outputId": "e5b9b1d7-2082-4339-f72b-6b0093b78c8d"
      },
      "outputs": [
        {
          "output_type": "stream",
          "name": "stdout",
          "text": [
            "el costo total es: 250\n"
          ]
        }
      ],
      "source": [
        "def costo_total(costo,tarifa):\n",
        "\n",
        "\n",
        "  x = costo+tarifa\n",
        "  return x\n",
        "\n",
        "costos = costo_total(150,100)\n",
        "print(f\"el costo total es: {costos}\")"
      ]
    },
    {
      "cell_type": "markdown",
      "source": [
        "importar tabla de datos"
      ],
      "metadata": {
        "id": "26vLglJ5-axg"
      }
    },
    {
      "cell_type": "code",
      "source": [
        "import pandas as pd\n",
        "import numpy as np\n",
        "\n",
        "## crear un dataframe de ejemplo\n",
        "\n",
        "data = {'nombre':['ana','luis','jorge'],\n",
        "        'edad': [20,25,18]}\n",
        "\n",
        "df = pd.DataFrame(data)\n",
        "print(df)"
      ],
      "metadata": {
        "colab": {
          "base_uri": "https://localhost:8080/"
        },
        "id": "42S7UDv8-Z9r",
        "outputId": "948ce401-c1b4-4cdc-d5c8-3cd024e1c0f6"
      },
      "execution_count": null,
      "outputs": [
        {
          "output_type": "stream",
          "name": "stdout",
          "text": [
            "  nombre  edad\n",
            "0    ana    20\n",
            "1   luis    25\n",
            "2  jorge    18\n"
          ]
        }
      ]
    }
  ]
}