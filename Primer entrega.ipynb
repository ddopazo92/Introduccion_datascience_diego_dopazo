{
  "nbformat": 4,
  "nbformat_minor": 0,
  "metadata": {
    "colab": {
      "provenance": [],
      "mount_file_id": "https://github.com/ddopazo92/Introduccion_datascience_diego_dopazo/blob/main/Primer%20entrega.ipynb",
      "authorship_tag": "ABX9TyNjTXe8RC/Du2Y2T+Dl2cWR",
      "include_colab_link": true
    },
    "kernelspec": {
      "name": "python3",
      "display_name": "Python 3"
    },
    "language_info": {
      "name": "python"
    }
  },
  "cells": [
    {
      "cell_type": "markdown",
      "metadata": {
        "id": "view-in-github",
        "colab_type": "text"
      },
      "source": [
        "<a href=\"https://colab.research.google.com/github/ddopazo92/Introduccion_datascience_diego_dopazo/blob/main/Primer%20entrega.ipynb\" target=\"_parent\"><img src=\"https://colab.research.google.com/assets/colab-badge.svg\" alt=\"Open In Colab\"/></a>"
      ]
    },
    {
      "cell_type": "code",
      "execution_count": 82,
      "metadata": {
        "colab": {
          "base_uri": "https://localhost:8080/"
        },
        "id": "BA5wxy4fm_5b",
        "outputId": "cda4d43e-65ac-4420-9d4d-e9dd18da7c26"
      },
      "outputs": [
        {
          "output_type": "stream",
          "name": "stdout",
          "text": [
            "                      Nombre Plataforma  Año de lanzamiento      Genero  \\\n",
            "0                 WII SPORTS        Wii                2006    Deportes   \n",
            "1             MARIO KART WII        Wii                2008    Carreras   \n",
            "2          WII SPORTS RESORT        Wii                2009    Deportes   \n",
            "3      NEW SUPER MARIO BROS.         DS                2006  Plataforma   \n",
            "4                   WII PLAY        Wii                2006  Miscelania   \n",
            "5  NEW SUPER MARIO BROS. WII        Wii                2009  Plataforma   \n",
            "\n",
            "    Editora  Ventas USA  Ventas Europa  Ventas Japon  \\\n",
            "0  Nintendo       41.36          28.96          3.77   \n",
            "1  Nintendo       15.68          12.76          3.79   \n",
            "2  Nintendo       15.61          10.93          3.28   \n",
            "3  Nintendo       11.28           9.14          6.50   \n",
            "4  Nintendo       13.96           9.18          2.93   \n",
            "5  Nintendo       14.44           6.94          4.70   \n",
            "\n",
            "   Ventas en Resto del Mundo  Ventas Totales  Puntuacion de criticos  \\\n",
            "0                       8.45           82.53                    76.0   \n",
            "1                       3.29           35.52                    82.0   \n",
            "2                       2.95           32.77                    80.0   \n",
            "3                       2.88           29.80                    89.0   \n",
            "4                       2.84           28.92                    58.0   \n",
            "5                       2.24           28.32                    87.0   \n",
            "\n",
            "   Cantidad de criticas  Puntaje de Usuario  Cantidad de usuarios  \\\n",
            "0                  51.0                 8.0                   322   \n",
            "1                  73.0                 8.3                   709   \n",
            "2                  73.0                 8.0                   192   \n",
            "3                  65.0                 8.5                   431   \n",
            "4                  41.0                 6.6                   129   \n",
            "5                  80.0                 8.4                   594   \n",
            "\n",
            "  Desarrollador Clasificacion por Edad  \n",
            "0      Nintendo                      E  \n",
            "1      Nintendo                      E  \n",
            "2      Nintendo                      E  \n",
            "3      Nintendo                      E  \n",
            "4      Nintendo                      E  \n",
            "5      Nintendo                      E  \n"
          ]
        }
      ],
      "source": [
        "\n",
        "import pandas as pd\n",
        "\n",
        "url = '/content/drive/MyDrive/Coder/Data Science/proyecto DC Diego Dopazo/Video_Games.csv'\n",
        "\n",
        "df = pd.read_csv(url, sep=';')\n",
        "\n",
        "\n",
        "\n",
        "##df = df.rename(columns={'Name':'Nombre', 'Platform':'Plataforma','Year_of_Release':'Año_de_lanzamiento','Genre':'Genero','Publisher':'Editora','NA_Sales':'Ventas USA',\n",
        "                       ## 'EU_Sales':'Ventas Europa','JP_Sales':'Ventas Japon', 'Other_Sales':'Ventas en Resto del Mundo','Global_Sales':'Ventas Totales',\n",
        "                       ## 'Critic_Score':'Puntuacion de criticos','Critic_Count':'Cantidad de criticas', 'User_Score':'Puntaje de Usuario',\n",
        "                       ## 'User_Count':'Cantidad de usuarios','Developer_Rating':'Clasificacion por Edad'})\n",
        "\n",
        "df = df.set_axis(['Nombre', 'Plataforma', 'Año de lanzamiento','Genero', 'Editora', 'Ventas USA','Ventas Europa', 'Ventas Japon','Ventas en Resto del Mundo',\n",
        "                  'Ventas Totales', 'Puntuacion de criticos','Cantidad de criticas', 'Puntaje de Usuario','Cantidad de usuarios','Desarrollador','Clasificacion por Edad'], axis=1)\n",
        "\n",
        "df['Nombre'] = df['Nombre'].str.upper()\n",
        "df['Genero'] = df['Genero'].str.replace('Action','Accion')\n",
        "df['Genero'] = df['Genero'].str.replace('Adventure','Aventura')\n",
        "df['Genero'] = df['Genero'].str.replace('Fighting','Lucha')\n",
        "df['Genero'] = df['Genero'].str.replace('Misc','Miscelania')\n",
        "df['Genero'] = df['Genero'].str.replace('Platform','Plataforma')\n",
        "df['Genero'] = df['Genero'].str.replace('Racing','Carreras')\n",
        "df['Genero'] = df['Genero'].str.replace('Role-Playing','RPG')\n",
        "df['Genero'] = df['Genero'].str.replace('Shooter','Disparos')\n",
        "df['Genero'] = df['Genero'].str.replace('Simulation','Simulacion')\n",
        "df['Genero'] = df['Genero'].str.replace('Sports','Deportes')\n",
        "df['Genero'] = df['Genero'].str.replace('Strategy','Estrategia')\n",
        "\n",
        "\n",
        "\n",
        "print(df.head(6))"
      ]
    }
  ]
}