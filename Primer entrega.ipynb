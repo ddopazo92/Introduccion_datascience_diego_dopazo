{
  "nbformat": 4,
  "nbformat_minor": 0,
  "metadata": {
    "colab": {
      "provenance": [],
      "mount_file_id": "https://github.com/ddopazo92/Introduccion_datascience_diego_dopazo/blob/main/Primer%20entrega.ipynb",
      "authorship_tag": "ABX9TyMmb3c1vhaKWIjW/kWRWqpz",
      "include_colab_link": true
    },
    "kernelspec": {
      "name": "python3",
      "display_name": "Python 3"
    },
    "language_info": {
      "name": "python"
    }
  },
  "cells": [
    {
      "cell_type": "markdown",
      "metadata": {
        "id": "view-in-github",
        "colab_type": "text"
      },
      "source": [
        "<a href=\"https://colab.research.google.com/github/ddopazo92/Introduccion_datascience_diego_dopazo/blob/main/Primer%20entrega.ipynb\" target=\"_parent\"><img src=\"https://colab.research.google.com/assets/colab-badge.svg\" alt=\"Open In Colab\"/></a>"
      ]
    },
    {
      "cell_type": "code",
      "execution_count": 46,
      "metadata": {
        "colab": {
          "base_uri": "https://localhost:8080/"
        },
        "id": "BA5wxy4fm_5b",
        "outputId": "94864c49-8c52-4687-8c25-cf48389e738e"
      },
      "outputs": [
        {
          "output_type": "stream",
          "name": "stdout",
          "text": [
            "Empty DataFrame\n",
            "Columns: [(Puntuacion de criticos, mean), (Puntuacion de criticos, min), (Puntuacion de criticos, max)]\n",
            "Index: []\n"
          ]
        }
      ],
      "source": [
        "\n",
        "import matplotlib.pyplot as plt\n",
        "import numpy as np\n",
        "import pandas as pd\n",
        "from collections import Counter\n",
        "\n",
        "\n",
        "url = '/content/drive/MyDrive/Coder/Data Science/proyecto DC Diego Dopazo/Video_Games.csv'\n",
        "\n",
        "df = pd.read_csv(url, sep=';')\n",
        "\n",
        "\n",
        "df = df.set_axis(['Juego', 'Plataforma', 'Año de lanzamiento','Genero', 'Publicador', 'Ventas USA','Ventas Europa', 'Ventas Japon','Ventas en Resto del Mundo',\n",
        "                  'Ventas Totales', 'Puntuacion de criticos','Cantidad de criticas', 'Puntaje de Usuario','Cantidad de usuarios','Desarrollador','Clasificacion por Edad'], axis=1)\n",
        "\n",
        "df['Juego'] = df['Juego'].str.upper()\n",
        "df['Genero'] = df['Genero'].str.replace('Action','Accion')\n",
        "df['Genero'] = df['Genero'].str.replace('Adventure','Aventura')\n",
        "df['Genero'] = df['Genero'].str.replace('Fighting','Lucha')\n",
        "df['Genero'] = df['Genero'].str.replace('Misc','Miscelania')\n",
        "df['Genero'] = df['Genero'].str.replace('Platform','Plataforma')\n",
        "df['Genero'] = df['Genero'].str.replace('Racing','Carreras')\n",
        "df['Genero'] = df['Genero'].str.replace('Role-Playing','RPG')\n",
        "df['Genero'] = df['Genero'].str.replace('Shooter','Disparos')\n",
        "df['Genero'] = df['Genero'].str.replace('Simulation','Simulacion')\n",
        "df['Genero'] = df['Genero'].str.replace('Sports','Deportes')\n",
        "df['Genero'] = df['Genero'].str.replace('Strategy','Estrategia')\n",
        "\n",
        "\n",
        "dosmil = df['Año de lanzamiento'].between(1996, 2006)\n",
        "dosdiez = df['Año de lanzamiento'].between(2007, 2016)\n",
        "\n",
        "juegos_memorables = df['Puntuacion de criticos'] > 90\n",
        "\n",
        "promedio_puntuacion = df['Puntuacion de criticos'].mean()\n",
        "\n",
        "\n",
        "\n",
        "##TOP 10 DE PUBLICACIONES DE NINTENDO CON PUNTAJE MAYOR A 90, DEL AÑO 1996 al 2006 y desde 2007 AL 2016\n",
        "\n",
        "nin2000 = df.loc[(juegos_memorables) & (df['Publicador'] == 'Nintendo') & (dosmil) ]\n",
        "nin2010 = df.loc[(juegos_memorables) & (df['Publicador'] == 'Nintendo') & (dosdiez) ]\n",
        "\n",
        "Puntuacion_publicador = df.loc[(df['Puntuacion de criticos'] > 0) & (df['Publicador'].value_counts() > 10)].groupby('Publicador').agg({'Puntuacion de criticos':['mean','min','max']})\n",
        "Puntuacion_publicador = Puntuacion_publicador.sort_values(by=('Puntuacion de criticos','mean'), ascending=False)\n",
        "\n",
        "\n",
        "#orden para verse seria puntaje/nombre del juego/publicadora/año y seria un top 10 ordenado por puntaje dentro de la primera decada y segunda\n",
        "\n",
        "#top 10 del promedio de juegos mayor puntuados por publicador y por desarrollador en orden descendente que diga publicador y puntaje promedio\n",
        "\n",
        "##promedio = dosmil['Puntuacion de criticos'].resample('Y').mean()\n",
        "#print(promedio)\n",
        "\n",
        "##print(nin2010(df[{promedio_puntuacion,'Nombre','Publicador','Año de lanzamiento'}]).head(10))\n",
        "\n",
        "##print(df.loc[0:9,['Puntuacion de criticos','Juego','Publicador','Año de lanzamiento']],\"\\n\")\n",
        "##print(nin2000.head(10))\n",
        "\n",
        "\n",
        "print(Puntuacion_publicador)\n",
        "##print(cantidad_publicador_total)\n",
        "\n",
        "##print(df[dosmil].head(6))\n",
        "##print(df.head(6))\n",
        "\n",
        "\n",
        "##GRAFICO DE DISPERSION PARA VER DONDE SE CONCENTRAN MAS (DENTRO DE LOS 20 AÑOS ELEGIDOS (1996-2016)) LOS JUEGOS CON MAYOR PUNTAJE DE LA CRITICA Y  MAYORES VENTAS, DE LOS PUBLICADORES"
      ]
    },
    {
      "cell_type": "markdown",
      "source": [
        "# GRAFICO DE DISPERSION PARA VER DONDE SE CONCENTRAN MAS (DENTRO DE LOS 20 AÑOS ELEGIDOS (1996-2016)) LOS JUEGOS CON MAYOR PUNTAJE DE LA CRITICA Y  MAYORES VENTAS, DE LOS PUBLICADORES"
      ],
      "metadata": {
        "id": "Cm3_-UvFyZwl"
      }
    },
    {
      "cell_type": "code",
      "source": [],
      "metadata": {
        "id": "Wd1RIj11ytP9"
      },
      "execution_count": null,
      "outputs": []
    }
  ]
}