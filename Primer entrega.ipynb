{
  "nbformat": 4,
  "nbformat_minor": 0,
  "metadata": {
    "colab": {
      "provenance": [],
      "mount_file_id": "https://github.com/ddopazo92/Introduccion_datascience_diego_dopazo/blob/main/Primer%20entrega.ipynb",
      "authorship_tag": "ABX9TyP5RN3ADrTEDFU9hOq58XjA",
      "include_colab_link": true
    },
    "kernelspec": {
      "name": "python3",
      "display_name": "Python 3"
    },
    "language_info": {
      "name": "python"
    }
  },
  "cells": [
    {
      "cell_type": "markdown",
      "metadata": {
        "id": "view-in-github",
        "colab_type": "text"
      },
      "source": [
        "<a href=\"https://colab.research.google.com/github/ddopazo92/Introduccion_datascience_diego_dopazo/blob/main/Primer%20entrega.ipynb\" target=\"_parent\"><img src=\"https://colab.research.google.com/assets/colab-badge.svg\" alt=\"Open In Colab\"/></a>"
      ]
    },
    {
      "cell_type": "code",
      "execution_count": 25,
      "metadata": {
        "colab": {
          "base_uri": "https://localhost:8080/"
        },
        "id": "BA5wxy4fm_5b",
        "outputId": "b2589793-9b97-4e66-d96c-c1226ae47a0d"
      },
      "outputs": [
        {
          "output_type": "stream",
          "name": "stdout",
          "text": [
            "              Nombre Plataforma  Año de lanzamiento    Genero   Editora  \\\n",
            "0         WII SPORTS        Wii                2006  Deportes  Nintendo   \n",
            "1     MARIO KART WII        Wii                2008  Carreras  Nintendo   \n",
            "2  WII SPORTS RESORT        Wii                2009  Deportes  Nintendo   \n",
            "\n",
            "   Ventas USA  Ventas Europa  Ventas Japon  Ventas en Resto del Mundo  \\\n",
            "0       41.36          28.96          3.77                       8.45   \n",
            "1       15.68          12.76          3.79                       3.29   \n",
            "2       15.61          10.93          3.28                       2.95   \n",
            "\n",
            "   Ventas Totales  Puntuacion de criticos  Cantidad de criticas  \\\n",
            "0           82.53                    76.0                  51.0   \n",
            "1           35.52                    82.0                  73.0   \n",
            "2           32.77                    80.0                  73.0   \n",
            "\n",
            "   Puntaje de Usuario  Cantidad de usuarios Desarrollador  \\\n",
            "0                 8.0                   322      Nintendo   \n",
            "1                 8.3                   709      Nintendo   \n",
            "2                 8.0                   192      Nintendo   \n",
            "\n",
            "  Clasificacion por Edad  \n",
            "0                      E  \n",
            "1                      E  \n",
            "2                      E  \n"
          ]
        }
      ],
      "source": [
        "\n",
        "import pandas as pd\n",
        "\n",
        "url = '/content/drive/MyDrive/Coder/Data Science/proyecto DC Diego Dopazo/Video_Games.csv'\n",
        "\n",
        "df = pd.read_csv(url, sep=';')\n",
        "\n",
        "\n",
        "df = df.set_axis(['Nombre', 'Plataforma', 'Año de lanzamiento','Genero', 'Editora', 'Ventas USA','Ventas Europa', 'Ventas Japon','Ventas en Resto del Mundo',\n",
        "                  'Ventas Totales', 'Puntuacion de criticos','Cantidad de criticas', 'Puntaje de Usuario','Cantidad de usuarios','Desarrollador','Clasificacion por Edad'], axis=1)\n",
        "\n",
        "df['Nombre'] = df['Nombre'].str.upper()\n",
        "df['Genero'] = df['Genero'].str.replace('Action','Accion')\n",
        "df['Genero'] = df['Genero'].str.replace('Adventure','Aventura')\n",
        "df['Genero'] = df['Genero'].str.replace('Fighting','Lucha')\n",
        "df['Genero'] = df['Genero'].str.replace('Misc','Miscelania')\n",
        "df['Genero'] = df['Genero'].str.replace('Platform','Plataforma')\n",
        "df['Genero'] = df['Genero'].str.replace('Racing','Carreras')\n",
        "df['Genero'] = df['Genero'].str.replace('Role-Playing','RPG')\n",
        "df['Genero'] = df['Genero'].str.replace('Shooter','Disparos')\n",
        "df['Genero'] = df['Genero'].str.replace('Simulation','Simulacion')\n",
        "df['Genero'] = df['Genero'].str.replace('Sports','Deportes')\n",
        "df['Genero'] = df['Genero'].str.replace('Strategy','Estrategia')\n",
        "\n",
        "\n",
        "##creacion de rango de fechas\n",
        "\n",
        "dosmil = df['Año de lanzamiento'].between(2000, 2010)\n",
        "\n",
        "##promedio = dosmil['Puntuacion de criticos'].resample('Y').mean()\n",
        "#print(promedio)\n",
        "\n",
        "\n",
        "print(df[dosmil].head(3))\n",
        "##print(df.head(6))"
      ]
    }
  ]
}