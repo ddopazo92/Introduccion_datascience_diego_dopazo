{
  "nbformat": 4,
  "nbformat_minor": 0,
  "metadata": {
    "colab": {
      "provenance": [],
      "authorship_tag": "ABX9TyMixUyapwYqrBpDWo7xsnhk",
      "include_colab_link": true
    },
    "kernelspec": {
      "name": "python3",
      "display_name": "Python 3"
    },
    "language_info": {
      "name": "python"
    }
  },
  "cells": [
    {
      "cell_type": "markdown",
      "metadata": {
        "id": "view-in-github",
        "colab_type": "text"
      },
      "source": [
        "<a href=\"https://colab.research.google.com/github/ddopazo92/Introduccion_datascience_diego_dopazo/blob/main/Primer%20entrega.ipynb\" target=\"_parent\"><img src=\"https://colab.research.google.com/assets/colab-badge.svg\" alt=\"Open In Colab\"/></a>"
      ]
    },
    {
      "cell_type": "code",
      "execution_count": 94,
      "metadata": {
        "colab": {
          "base_uri": "https://localhost:8080/"
        },
        "id": "BA5wxy4fm_5b",
        "outputId": "9107594c-4fb5-407d-a297-8aaab482fccc"
      },
      "outputs": [
        {
          "output_type": "stream",
          "name": "stdout",
          "text": [
            "                                   Name Platform  Year_of_Release      Genre  \\\n",
            "0                            Wii Sports      Wii             2006     Sports   \n",
            "1                        Mario Kart Wii      Wii             2008     Racing   \n",
            "2                     Wii Sports Resort      Wii             2009     Sports   \n",
            "3                 New Super Mario Bros.       DS             2006   Platform   \n",
            "4                              Wii Play      Wii             2006       Misc   \n",
            "...                                 ...      ...              ...        ...   \n",
            "7430                            Worms 2       PC             1997   Strategy   \n",
            "7431  Metal Gear Solid V: Ground Zeroes       PC             2014     Action   \n",
            "7432                             Breach       PC             2011    Shooter   \n",
            "7433            STORM: Frontline Nation       PC             2011   Strategy   \n",
            "7434                            15 Days       PC             2009  Adventure   \n",
            "\n",
            "                         Publisher  NA_Sales  EU_Sales  JP_Sales  Other_Sales  \\\n",
            "0                         Nintendo     41.36     28.96      3.77         8.45   \n",
            "1                         Nintendo     15.68     12.76      3.79         3.29   \n",
            "2                         Nintendo     15.61     10.93      3.28         2.95   \n",
            "3                         Nintendo     11.28      9.14      6.50         2.88   \n",
            "4                         Nintendo     13.96      9.18      2.93         2.84   \n",
            "...                            ...       ...       ...       ...          ...   \n",
            "7430                    Microprose      0.00      0.01      0.00         0.00   \n",
            "7431  Konami Digital Entertainment      0.00      0.01      0.00         0.00   \n",
            "7432                     Destineer      0.01      0.00      0.00         0.00   \n",
            "7433                       Unknown      0.00      0.01      0.00         0.00   \n",
            "7434             DTP Entertainment      0.00      0.01      0.00         0.00   \n",
            "\n",
            "      Global_Sales  Critic_Score  Critic_Count  User_Score  User_Count  \\\n",
            "0            82.53          76.0          51.0         8.0         322   \n",
            "1            35.52          82.0          73.0         8.3         709   \n",
            "2            32.77          80.0          73.0         8.0         192   \n",
            "3            29.80          89.0          65.0         8.5         431   \n",
            "4            28.92          58.0          41.0         6.6         129   \n",
            "...            ...           ...           ...         ...         ...   \n",
            "7430          0.01           NaN           NaN         8.1          12   \n",
            "7431          0.01          80.0          20.0         7.6         412   \n",
            "7432          0.01          61.0          12.0         5.8          43   \n",
            "7433          0.01          60.0          12.0         7.2          13   \n",
            "7434          0.01          63.0           6.0         5.8           8   \n",
            "\n",
            "               Developer Rating  \n",
            "0               Nintendo      E  \n",
            "1               Nintendo      E  \n",
            "2               Nintendo      E  \n",
            "3               Nintendo      E  \n",
            "4               Nintendo      E  \n",
            "...                  ...    ...  \n",
            "7430             Team 17    K-A  \n",
            "7431  Kojima Productions      M  \n",
            "7432        Atomic Games      T  \n",
            "7433              SimBin   E10+  \n",
            "7434   DTP Entertainment    NaN  \n",
            "\n",
            "[7435 rows x 16 columns]\n"
          ]
        }
      ],
      "source": [
        "\n",
        "import pandas as pd\n",
        "\n",
        "url = '/content/Video_Games_2.xls'\n",
        "\n",
        "df = pd.read_excel(url)\n",
        "\n",
        "print(df)"
      ]
    }
  ]
}