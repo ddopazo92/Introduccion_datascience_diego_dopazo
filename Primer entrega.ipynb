{
  "nbformat": 4,
  "nbformat_minor": 0,
  "metadata": {
    "colab": {
      "provenance": [],
      "mount_file_id": "https://github.com/ddopazo92/Introduccion_datascience_diego_dopazo/blob/main/Primer%20entrega.ipynb",
      "authorship_tag": "ABX9TyPlhR8HfYuoPTzLJNFkF9jm",
      "include_colab_link": true
    },
    "kernelspec": {
      "name": "python3",
      "display_name": "Python 3"
    },
    "language_info": {
      "name": "python"
    }
  },
  "cells": [
    {
      "cell_type": "markdown",
      "metadata": {
        "id": "view-in-github",
        "colab_type": "text"
      },
      "source": [
        "<a href=\"https://colab.research.google.com/github/ddopazo92/Introduccion_datascience_diego_dopazo/blob/main/Primer%20entrega.ipynb\" target=\"_parent\"><img src=\"https://colab.research.google.com/assets/colab-badge.svg\" alt=\"Open In Colab\"/></a>"
      ]
    },
    {
      "cell_type": "code",
      "execution_count": 27,
      "metadata": {
        "id": "BA5wxy4fm_5b"
      },
      "outputs": [],
      "source": [
        "\n",
        "import matplotlib.pyplot as plt\n",
        "import numpy as np\n",
        "import pandas as pd\n",
        "\n",
        "\n",
        "url = '/content/drive/MyDrive/Coder/Data Science/proyecto DC Diego Dopazo/Video_Games.csv'\n",
        "\n",
        "df = pd.read_csv(url, sep=';')\n",
        "\n",
        "\n",
        "df = df.set_axis(['Juego', 'Plataforma', 'Año de lanzamiento','Genero', 'Publicador', 'Ventas USA','Ventas Europa', 'Ventas Japon','Ventas Total',\n",
        "                  'Ventas Totales', 'Puntuacion de criticos','Cantidad de criticas', 'Puntaje de Usuario','Cantidad de usuarios','Desarrollador','Clasificacion por Edad'], axis=1)\n",
        "\n",
        "df['Juego'] = df['Juego'].str.upper()\n",
        "df['Genero'] = df['Genero'].str.replace('Action','Accion')\n",
        "df['Genero'] = df['Genero'].str.replace('Adventure','Aventura')\n",
        "df['Genero'] = df['Genero'].str.replace('Fighting','Lucha')\n",
        "df['Genero'] = df['Genero'].str.replace('Misc','Miscelania')\n",
        "df['Genero'] = df['Genero'].str.replace('Platform','Plataforma')\n",
        "df['Genero'] = df['Genero'].str.replace('Racing','Carreras')\n",
        "df['Genero'] = df['Genero'].str.replace('Role-Playing','RPG')\n",
        "df['Genero'] = df['Genero'].str.replace('Shooter','Disparos')\n",
        "df['Genero'] = df['Genero'].str.replace('Simulation','Simulacion')\n",
        "df['Genero'] = df['Genero'].str.replace('Sports','Deportes')\n",
        "df['Genero'] = df['Genero'].str.replace('Strategy','Estrategia')\n",
        "\n",
        "\n",
        "pri_dec = df['Año de lanzamiento'].between(1996, 2006)\n",
        "seg_dec = df['Año de lanzamiento'].between(2007, 2016)\n",
        "\n",
        "\n"
      ]
    },
    {
      "cell_type": "markdown",
      "source": [
        "# EVALUACION SEGUN LA CRITICA"
      ],
      "metadata": {
        "id": "hZuSGWQklKkJ"
      }
    },
    {
      "cell_type": "code",
      "source": [
        "##PUNTUACION SEGUN LA CRITICA PARA PUBLICADOR, DESARROLLADOR Y JUEGO\n",
        "\n",
        "#PUBLICADOR con los juegos con mayor, menor y el promedio de puntos segun la critica en orden descendente\n",
        "pje_cri_publicador = df.loc[(df['Puntuacion de criticos'] > 0) & (df['Publicador'])].groupby('Publicador').agg({'Puntuacion de criticos':['mean','min','max','count']})\n",
        "pje_cri_publicador = pje_cri_publicador.sort_values(by=('Puntuacion de criticos','mean'), ascending=False)\n",
        "\n",
        "\n",
        "#DESARROLLADOR con los juegos con mayor, menor y el promedio de puntos segun la critica en orden descendente\n",
        "pje_cri_desarrollador = df.loc[(df['Puntuacion de criticos'] > 0) & (df['Desarrollador'])].groupby('Desarrollador').agg({'Puntuacion de criticos':['mean','min','max','count']})\n",
        "pje_cri_desarrollador = pje_cri_desarrollador.sort_values(by=('Puntuacion de criticos','mean'), ascending=False)\n",
        "\n",
        "\n",
        "##JUEGOS con mayor puntuacion segun la critica\n",
        "pje_cri_juegos = df[['Puntuacion de criticos','Juego','Publicador','Año de lanzamiento']]\n",
        "pje_cri_juegos_desc = pje_cri_juegos.sort_values(by='Puntuacion de criticos', ascending=False)\n",
        "\n",
        "\n",
        "print(pje_cri_publicador.head(10))\n",
        "\n",
        "print(pje_cri_desarrollador.head(10))\n",
        "\n",
        "print(pje_cri_juegos_desc.head(10))"
      ],
      "metadata": {
        "id": "XoEyGMkqlOZE",
        "outputId": "3e5fdfcc-b5d5-43d4-cb7c-a06c192b707b",
        "colab": {
          "base_uri": "https://localhost:8080/"
        }
      },
      "execution_count": 28,
      "outputs": [
        {
          "output_type": "stream",
          "name": "stdout",
          "text": [
            "                       Puntuacion de criticos                  \n",
            "                                         mean   min   max count\n",
            "Publicador                                                     \n",
            "Valve                                   95.00  95.0  95.0     1\n",
            "Valve Software                          93.00  89.0  95.0     3\n",
            "Blue Byte                               91.00  91.0  91.0     1\n",
            "Graphsim Entertainment                  90.00  90.0  90.0     1\n",
            "Number None                             90.00  90.0  90.0     1\n",
            "2D Boy                                  90.00  90.0  90.0     1\n",
            "Psygnosis                               89.75  86.0  93.0     4\n",
            "Square                                  89.00  89.0  89.0     1\n",
            "Havas Interactive                       88.00  88.0  88.0     1\n",
            "Devolver Digital                        88.00  88.0  88.0     1\n",
            "                                     Puntuacion de criticos                  \n",
            "                                                       mean   min   max count\n",
            "Desarrollador                                                                \n",
            "Irrational Games, 2K Marin                        96.000000  96.0  96.0     2\n",
            "Kojima Productions, Moby Dick Studio              94.000000  93.0  95.0     2\n",
            "Digital Extremes, 2K Marin                        94.000000  94.0  94.0     1\n",
            "Bungie Software                                   93.666667  89.0  97.0     3\n",
            "DMA Design, Rockstar North                        93.000000  93.0  93.0     1\n",
            "Rockstar North                                    92.857143  74.0  98.0    14\n",
            "ThatGameCompany                                   92.000000  92.0  92.0     1\n",
            "Irrational Games                                  91.500000  85.0  94.0     4\n",
            "Valve Software                                    91.384615  74.0  96.0    13\n",
            "KCEK                                              91.000000  91.0  91.0     1\n",
            "      Puntuacion de criticos                     Juego  \\\n",
            "3315                    98.0               SOULCALIBUR   \n",
            "155                     98.0  TONY HAWK'S PRO SKATER 2   \n",
            "32                      98.0       GRAND THEFT AUTO IV   \n",
            "37                      98.0       GRAND THEFT AUTO IV   \n",
            "118                     97.0        GRAND THEFT AUTO V   \n",
            "173                     97.0  TONY HAWK'S PRO SKATER 3   \n",
            "31                      97.0        SUPER MARIO GALAXY   \n",
            "87                      97.0      HALO: COMBAT EVOLVED   \n",
            "63                      97.0      SUPER MARIO GALAXY 2   \n",
            "1236                    97.0                   NFL 2K1   \n",
            "\n",
            "                  Publicador  Año de lanzamiento  \n",
            "3315      Namco Bandai Games                1999  \n",
            "155               Activision                2000  \n",
            "32      Take-Two Interactive                2008  \n",
            "37      Take-Two Interactive                2008  \n",
            "118     Take-Two Interactive                2014  \n",
            "173               Activision                2001  \n",
            "31                  Nintendo                2007  \n",
            "87    Microsoft Game Studios                2001  \n",
            "63                  Nintendo                2010  \n",
            "1236                    Sega                2000  \n"
          ]
        }
      ]
    },
    {
      "cell_type": "markdown",
      "source": [
        "# EVALUACION SEGUN USUARIOS POR REGION Y MUNDIAL"
      ],
      "metadata": {
        "id": "nRkhjpw4lchS"
      }
    },
    {
      "cell_type": "code",
      "source": [
        "##PUNTUACION SEGUN LA CRITICA PARA PUBLICADOR, DESARROLLADOR Y JUEGO\n",
        "\n",
        "#PUBLICADOR con los juegos con mayor, menor y el promedio de puntos segun la critica en orden descendente\n",
        "pje_usu_publicador = df.loc[(df['Puntaje de Usuario'] > 0) & (df['Publicador'])].groupby('Publicador').agg({'Puntaje de Usuario':['mean','min','max','count']})\n",
        "pje_usu_publicador = pje_usu_publicador.sort_values(by=('Puntaje de Usuario','mean'), ascending=False)\n",
        "\n",
        "\n",
        "#DESARROLLADOR con los juegos con mayor, menor y el promedio de puntos segun la critica en orden descendente\n",
        "pje_usu_desarrollador = df.loc[(df['Puntaje de Usuario'] > 0) & (df['Desarrollador'])].groupby('Desarrollador').agg({'Puntaje de Usuario':['mean','min','max','count']})\n",
        "pje_usu_desarrollador = pje_usu_desarrollador.sort_values(by=('Puntaje de Usuario','mean'), ascending=False)\n",
        "\n",
        "\n",
        "##JUEGOS con mayor puntuacion segun la critica\n",
        "pje_usu_juegos = df[['Puntaje de Usuario','Juego','Publicador','Año de lanzamiento']]\n",
        "pje_usu_juegos_desc = pje_usu_juegos.sort_values(by='Puntaje de Usuario', ascending=False)\n",
        "\n",
        "\n",
        "print(pje_usu_publicador.head(10))\n",
        "\n",
        "print(pje_usu_desarrollador.head(10))\n",
        "\n",
        "print(pje_usu_juegos_desc.head(10))"
      ],
      "metadata": {
        "id": "x8UX8XXklllQ",
        "outputId": "6be2443f-a20b-4d32-f9b3-0bc3b44751bc",
        "colab": {
          "base_uri": "https://localhost:8080/"
        }
      },
      "execution_count": 30,
      "outputs": [
        {
          "output_type": "stream",
          "name": "stdout",
          "text": [
            "                         Puntaje de Usuario                \n",
            "                                       mean  min  max count\n",
            "Publicador                                                 \n",
            "ValuSoft                               9.10  9.1  9.1     1\n",
            "Square                                 9.10  9.1  9.1     1\n",
            "Sunflowers                             9.10  9.1  9.1     1\n",
            "Kadokawa Shoten                        9.00  8.9  9.1     2\n",
            "SNK                                    8.85  8.8  8.9     2\n",
            "Blue Byte                              8.80  8.8  8.8     1\n",
            "Havas Interactive                      8.80  8.8  8.8     1\n",
            "Kool Kizz                              8.80  8.8  8.8     1\n",
            "Nihon Falcom Corporation               8.80  8.8  8.8     1\n",
            "Telegames                              8.75  8.3  9.2     2\n",
            "                            Puntaje de Usuario                \n",
            "                                          mean  min  max count\n",
            "Desarrollador                                                 \n",
            "Inferno Games                             9.50  9.5  9.5     1\n",
            "Infinite Dreams, Paragon 5                9.50  9.5  9.5     1\n",
            "Tecmo, Graphic Research                   9.40  9.4  9.4     1\n",
            "Telenet                                   9.30  9.3  9.3     1\n",
            "Victor Interactive Software               9.30  9.3  9.3     1\n",
            "Pax Softonica                             9.30  9.3  9.3     1\n",
            "Handheld Games                            9.25  9.0  9.5     2\n",
            "Telegames                                 9.20  9.2  9.2     1\n",
            "Activision Value                          9.20  9.2  9.2     1\n",
            "Housemarque                               9.20  9.2  9.2     1\n",
            "      Puntaje de Usuario                                  Juego  \\\n",
            "6901                 9.7                     BREATH OF FIRE III   \n",
            "2215                 9.6  HARVEST MOON: FRIENDS OF MINERAL TOWN   \n",
            "5027                 9.6        BOKTAI: THE SUN IS IN YOUR HAND   \n",
            "1096                 9.5               GOLDEN SUN: THE LOST AGE   \n",
            "7406                 9.5            WADE HIXTON'S COUNTER PUNCH   \n",
            "7419                 9.5                          KARNAAJ RALLY   \n",
            "5494                 9.5                      CORY IN THE HOUSE   \n",
            "3600                 9.5                    MLB SLUGFEST LOADED   \n",
            "491                  9.4    PAPER MARIO: THE THOUSAND-YEAR DOOR   \n",
            "5827                 9.4                       SKIES OF ARCADIA   \n",
            "\n",
            "                        Publicador  Año de lanzamiento  \n",
            "6901                        Capcom                2005  \n",
            "2215                       Ubisoft                2003  \n",
            "5027  Konami Digital Entertainment                2003  \n",
            "1096                      Nintendo                2002  \n",
            "7406     Destination Software, Inc                2004  \n",
            "7419                        Jaleco                2003  \n",
            "5494    Disney Interactive Studios                2007  \n",
            "3600                  Midway Games                2004  \n",
            "491                       Nintendo                2004  \n",
            "5827                          Sega                2000  \n"
          ]
        }
      ]
    },
    {
      "cell_type": "markdown",
      "source": [
        "# EVALUACION SEGUN LAS VENTAS POR REGION Y MUNDIAL"
      ],
      "metadata": {
        "id": "6-F9pe8qll50"
      }
    },
    {
      "cell_type": "code",
      "source": [
        "ventas_usa = df[['Ventas USA','Juego','Publicador','Año de lanzamiento']]\n",
        "venta_usa = ventas_usa.sort_values(by='Ventas USA', ascending=False)\n",
        "\n",
        "ventas_europa = df[['Ventas Europa','Juego','Publicador','Año de lanzamiento']]\n",
        "venta_europa = ventas_europa.sort_values(by='Ventas Europa', ascending=False)\n",
        "\n",
        "ventas_japon= df[['Ventas Japon','Juego','Publicador','Año de lanzamiento']]\n",
        "venta_japon = ventas_japon.sort_values(by='Ventas Japon', ascending=False)\n",
        "\n",
        "ventas_total= df[['Ventas Total','Juego','Publicador','Año de lanzamiento']]\n",
        "venta_total = ventas_total.sort_values(by='Ventas Total', ascending=False)\n",
        "\n",
        "print(venta_usa.head(10))\n",
        "print(venta_europa.head(10))\n",
        "print(venta_japon.head(10))\n",
        "print(venta_total.head(10))\n"
      ],
      "metadata": {
        "id": "zqEXw0j9lpgL",
        "outputId": "480d0c73-0948-41e4-cf44-f54fb87281eb",
        "colab": {
          "base_uri": "https://localhost:8080/",
          "height": 375
        }
      },
      "execution_count": 34,
      "outputs": [
        {
          "output_type": "error",
          "ename": "KeyError",
          "evalue": "\"['Ventas Total'] not in index\"",
          "traceback": [
            "\u001b[0;31m---------------------------------------------------------------------------\u001b[0m",
            "\u001b[0;31mKeyError\u001b[0m                                  Traceback (most recent call last)",
            "\u001b[0;32m/tmp/ipython-input-4289156277.py\u001b[0m in \u001b[0;36m<cell line: 0>\u001b[0;34m()\u001b[0m\n\u001b[1;32m      8\u001b[0m \u001b[0mventa_japon\u001b[0m \u001b[0;34m=\u001b[0m \u001b[0mventas_japon\u001b[0m\u001b[0;34m.\u001b[0m\u001b[0msort_values\u001b[0m\u001b[0;34m(\u001b[0m\u001b[0mby\u001b[0m\u001b[0;34m=\u001b[0m\u001b[0;34m'Ventas Japon'\u001b[0m\u001b[0;34m,\u001b[0m \u001b[0mascending\u001b[0m\u001b[0;34m=\u001b[0m\u001b[0;32mFalse\u001b[0m\u001b[0;34m)\u001b[0m\u001b[0;34m\u001b[0m\u001b[0;34m\u001b[0m\u001b[0m\n\u001b[1;32m      9\u001b[0m \u001b[0;34m\u001b[0m\u001b[0m\n\u001b[0;32m---> 10\u001b[0;31m \u001b[0mventas_total\u001b[0m\u001b[0;34m=\u001b[0m \u001b[0mdf\u001b[0m\u001b[0;34m[\u001b[0m\u001b[0;34m[\u001b[0m\u001b[0;34m'Ventas Total'\u001b[0m\u001b[0;34m,\u001b[0m\u001b[0;34m'Juego'\u001b[0m\u001b[0;34m,\u001b[0m\u001b[0;34m'Publicador'\u001b[0m\u001b[0;34m,\u001b[0m\u001b[0;34m'Año de lanzamiento'\u001b[0m\u001b[0;34m]\u001b[0m\u001b[0;34m]\u001b[0m\u001b[0;34m\u001b[0m\u001b[0;34m\u001b[0m\u001b[0m\n\u001b[0m\u001b[1;32m     11\u001b[0m \u001b[0mventa_total\u001b[0m \u001b[0;34m=\u001b[0m \u001b[0mventas_total\u001b[0m\u001b[0;34m.\u001b[0m\u001b[0msort_values\u001b[0m\u001b[0;34m(\u001b[0m\u001b[0mby\u001b[0m\u001b[0;34m=\u001b[0m\u001b[0;34m'Ventas Total'\u001b[0m\u001b[0;34m,\u001b[0m \u001b[0mascending\u001b[0m\u001b[0;34m=\u001b[0m\u001b[0;32mFalse\u001b[0m\u001b[0;34m)\u001b[0m\u001b[0;34m\u001b[0m\u001b[0;34m\u001b[0m\u001b[0m\n\u001b[1;32m     12\u001b[0m \u001b[0;34m\u001b[0m\u001b[0m\n",
            "\u001b[0;32m/usr/local/lib/python3.12/dist-packages/pandas/core/frame.py\u001b[0m in \u001b[0;36m__getitem__\u001b[0;34m(self, key)\u001b[0m\n\u001b[1;32m   4106\u001b[0m             \u001b[0;32mif\u001b[0m \u001b[0mis_iterator\u001b[0m\u001b[0;34m(\u001b[0m\u001b[0mkey\u001b[0m\u001b[0;34m)\u001b[0m\u001b[0;34m:\u001b[0m\u001b[0;34m\u001b[0m\u001b[0;34m\u001b[0m\u001b[0m\n\u001b[1;32m   4107\u001b[0m                 \u001b[0mkey\u001b[0m \u001b[0;34m=\u001b[0m \u001b[0mlist\u001b[0m\u001b[0;34m(\u001b[0m\u001b[0mkey\u001b[0m\u001b[0;34m)\u001b[0m\u001b[0;34m\u001b[0m\u001b[0;34m\u001b[0m\u001b[0m\n\u001b[0;32m-> 4108\u001b[0;31m             \u001b[0mindexer\u001b[0m \u001b[0;34m=\u001b[0m \u001b[0mself\u001b[0m\u001b[0;34m.\u001b[0m\u001b[0mcolumns\u001b[0m\u001b[0;34m.\u001b[0m\u001b[0m_get_indexer_strict\u001b[0m\u001b[0;34m(\u001b[0m\u001b[0mkey\u001b[0m\u001b[0;34m,\u001b[0m \u001b[0;34m\"columns\"\u001b[0m\u001b[0;34m)\u001b[0m\u001b[0;34m[\u001b[0m\u001b[0;36m1\u001b[0m\u001b[0;34m]\u001b[0m\u001b[0;34m\u001b[0m\u001b[0;34m\u001b[0m\u001b[0m\n\u001b[0m\u001b[1;32m   4109\u001b[0m \u001b[0;34m\u001b[0m\u001b[0m\n\u001b[1;32m   4110\u001b[0m         \u001b[0;31m# take() does not accept boolean indexers\u001b[0m\u001b[0;34m\u001b[0m\u001b[0;34m\u001b[0m\u001b[0m\n",
            "\u001b[0;32m/usr/local/lib/python3.12/dist-packages/pandas/core/indexes/base.py\u001b[0m in \u001b[0;36m_get_indexer_strict\u001b[0;34m(self, key, axis_name)\u001b[0m\n\u001b[1;32m   6198\u001b[0m             \u001b[0mkeyarr\u001b[0m\u001b[0;34m,\u001b[0m \u001b[0mindexer\u001b[0m\u001b[0;34m,\u001b[0m \u001b[0mnew_indexer\u001b[0m \u001b[0;34m=\u001b[0m \u001b[0mself\u001b[0m\u001b[0;34m.\u001b[0m\u001b[0m_reindex_non_unique\u001b[0m\u001b[0;34m(\u001b[0m\u001b[0mkeyarr\u001b[0m\u001b[0;34m)\u001b[0m\u001b[0;34m\u001b[0m\u001b[0;34m\u001b[0m\u001b[0m\n\u001b[1;32m   6199\u001b[0m \u001b[0;34m\u001b[0m\u001b[0m\n\u001b[0;32m-> 6200\u001b[0;31m         \u001b[0mself\u001b[0m\u001b[0;34m.\u001b[0m\u001b[0m_raise_if_missing\u001b[0m\u001b[0;34m(\u001b[0m\u001b[0mkeyarr\u001b[0m\u001b[0;34m,\u001b[0m \u001b[0mindexer\u001b[0m\u001b[0;34m,\u001b[0m \u001b[0maxis_name\u001b[0m\u001b[0;34m)\u001b[0m\u001b[0;34m\u001b[0m\u001b[0;34m\u001b[0m\u001b[0m\n\u001b[0m\u001b[1;32m   6201\u001b[0m \u001b[0;34m\u001b[0m\u001b[0m\n\u001b[1;32m   6202\u001b[0m         \u001b[0mkeyarr\u001b[0m \u001b[0;34m=\u001b[0m \u001b[0mself\u001b[0m\u001b[0;34m.\u001b[0m\u001b[0mtake\u001b[0m\u001b[0;34m(\u001b[0m\u001b[0mindexer\u001b[0m\u001b[0;34m)\u001b[0m\u001b[0;34m\u001b[0m\u001b[0;34m\u001b[0m\u001b[0m\n",
            "\u001b[0;32m/usr/local/lib/python3.12/dist-packages/pandas/core/indexes/base.py\u001b[0m in \u001b[0;36m_raise_if_missing\u001b[0;34m(self, key, indexer, axis_name)\u001b[0m\n\u001b[1;32m   6250\u001b[0m \u001b[0;34m\u001b[0m\u001b[0m\n\u001b[1;32m   6251\u001b[0m             \u001b[0mnot_found\u001b[0m \u001b[0;34m=\u001b[0m \u001b[0mlist\u001b[0m\u001b[0;34m(\u001b[0m\u001b[0mensure_index\u001b[0m\u001b[0;34m(\u001b[0m\u001b[0mkey\u001b[0m\u001b[0;34m)\u001b[0m\u001b[0;34m[\u001b[0m\u001b[0mmissing_mask\u001b[0m\u001b[0;34m.\u001b[0m\u001b[0mnonzero\u001b[0m\u001b[0;34m(\u001b[0m\u001b[0;34m)\u001b[0m\u001b[0;34m[\u001b[0m\u001b[0;36m0\u001b[0m\u001b[0;34m]\u001b[0m\u001b[0;34m]\u001b[0m\u001b[0;34m.\u001b[0m\u001b[0munique\u001b[0m\u001b[0;34m(\u001b[0m\u001b[0;34m)\u001b[0m\u001b[0;34m)\u001b[0m\u001b[0;34m\u001b[0m\u001b[0;34m\u001b[0m\u001b[0m\n\u001b[0;32m-> 6252\u001b[0;31m             \u001b[0;32mraise\u001b[0m \u001b[0mKeyError\u001b[0m\u001b[0;34m(\u001b[0m\u001b[0;34mf\"{not_found} not in index\"\u001b[0m\u001b[0;34m)\u001b[0m\u001b[0;34m\u001b[0m\u001b[0;34m\u001b[0m\u001b[0m\n\u001b[0m\u001b[1;32m   6253\u001b[0m \u001b[0;34m\u001b[0m\u001b[0m\n\u001b[1;32m   6254\u001b[0m     \u001b[0;34m@\u001b[0m\u001b[0moverload\u001b[0m\u001b[0;34m\u001b[0m\u001b[0;34m\u001b[0m\u001b[0m\n",
            "\u001b[0;31mKeyError\u001b[0m: \"['Ventas Total'] not in index\""
          ]
        }
      ]
    },
    {
      "cell_type": "markdown",
      "source": [
        "# GRAFICO DE DISPERSION PARA VER DONDE SE CONCENTRAN MAS (DENTRO DE LOS 20 AÑOS ELEGIDOS (1996-2016)) LOS JUEGOS CON MAYOR PUNTAJE DE LA CRITICA Y  MAYORES VENTAS, DE LOS PUBLICADORES"
      ],
      "metadata": {
        "id": "Cm3_-UvFyZwl"
      }
    },
    {
      "cell_type": "code",
      "source": [],
      "metadata": {
        "id": "Wd1RIj11ytP9"
      },
      "execution_count": null,
      "outputs": []
    }
  ]
}