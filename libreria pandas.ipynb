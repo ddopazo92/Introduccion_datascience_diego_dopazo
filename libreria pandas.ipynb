{
  "nbformat": 4,
  "nbformat_minor": 0,
  "metadata": {
    "colab": {
      "provenance": [],
      "authorship_tag": "ABX9TyN9nA71OFje2NQ+ngevWv49",
      "include_colab_link": true
    },
    "kernelspec": {
      "name": "python3",
      "display_name": "Python 3"
    },
    "language_info": {
      "name": "python"
    }
  },
  "cells": [
    {
      "cell_type": "markdown",
      "metadata": {
        "id": "view-in-github",
        "colab_type": "text"
      },
      "source": [
        "<a href=\"https://colab.research.google.com/github/ddopazo92/Introduccion_datascience_diego_dopazo/blob/main/libreria%20pandas.ipynb\" target=\"_parent\"><img src=\"https://colab.research.google.com/assets/colab-badge.svg\" alt=\"Open In Colab\"/></a>"
      ]
    },
    {
      "cell_type": "markdown",
      "source": [
        "**Libreria  Panda**"
      ],
      "metadata": {
        "id": "ckvbak0-1bU5"
      }
    },
    {
      "cell_type": "code",
      "source": [
        "import pandas as pd\n",
        "\n",
        "data = pd.Series([1,10,15,20],index=(['a:','b:','c:','d:'])) ##esto crea una serie con cuatro elementos a los cuales se les crea un indice con letras\n",
        "\n",
        "print(data)"
      ],
      "metadata": {
        "colab": {
          "base_uri": "https://localhost:8080/"
        },
        "id": "Iy0cnmw83BG1",
        "outputId": "48688854-9448-4546-8eb0-8a90c3bf243d"
      },
      "execution_count": 8,
      "outputs": [
        {
          "output_type": "stream",
          "name": "stdout",
          "text": [
            "a:     1\n",
            "b:    10\n",
            "c:    15\n",
            "d:    20\n",
            "dtype: int64\n"
          ]
        }
      ]
    },
    {
      "cell_type": "code",
      "source": [
        "import pandas as pd\n",
        "\n",
        "datas = {\n",
        "        'Nombre' : ['Ana','Jorge','Roberto'],\n",
        "        'Edad' : [30,25,50],\n",
        "        'Ciudad': ['Montevideo','Buenos Aires','Brasilia']\n",
        "        }\n",
        "\n",
        "df = pd.DataFrame(datas)\n",
        "\n",
        "print(df.loc[0])"
      ],
      "metadata": {
        "colab": {
          "base_uri": "https://localhost:8080/"
        },
        "id": "pb0rwE1R8vvV",
        "outputId": "78a56229-3c74-4bfc-e993-c65adefb277a"
      },
      "execution_count": 41,
      "outputs": [
        {
          "output_type": "stream",
          "name": "stdout",
          "text": [
            "Nombre           Ana\n",
            "Edad              30\n",
            "Ciudad    Montevideo\n",
            "Name: 0, dtype: object\n"
          ]
        }
      ]
    },
    {
      "cell_type": "markdown",
      "source": [
        "**Arrays con calculos**"
      ],
      "metadata": {
        "id": "VDQ2nV268lYN"
      }
    },
    {
      "cell_type": "code",
      "source": [
        "\n",
        "import numpy as np\n",
        "\n",
        "numero = np.random.randint(0,100,size=(5))\n",
        "media = np.mean(numero)\n",
        "\n",
        "print(numero)\n",
        "print(media)\n",
        "\n",
        "media_falta = media - 50\n",
        "\n",
        "if media > 50:\n",
        " print(media_falta,\": se debe restar eso para que sea 50\")\n",
        "\n",
        "else:\n",
        "  print(media_falta,\": se debe sumar eso para que sea 50\")\n",
        "\n"
      ],
      "metadata": {
        "colab": {
          "base_uri": "https://localhost:8080/"
        },
        "id": "XOXTfthn3e80",
        "outputId": "2705b346-6dc0-4d38-851e-65a690c5311e"
      },
      "execution_count": 30,
      "outputs": [
        {
          "output_type": "stream",
          "name": "stdout",
          "text": [
            "[12 85 23 88 34]\n",
            "48.4\n",
            "-1.6000000000000014 : se debe sumar eso para que sea 50\n"
          ]
        }
      ]
    }
  ]
}