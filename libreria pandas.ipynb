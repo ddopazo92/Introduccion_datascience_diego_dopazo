{
  "nbformat": 4,
  "nbformat_minor": 0,
  "metadata": {
    "colab": {
      "provenance": [],
      "authorship_tag": "ABX9TyOPKxc/rOg7LZONqJeQ2GUA",
      "include_colab_link": true
    },
    "kernelspec": {
      "name": "python3",
      "display_name": "Python 3"
    },
    "language_info": {
      "name": "python"
    }
  },
  "cells": [
    {
      "cell_type": "markdown",
      "metadata": {
        "id": "view-in-github",
        "colab_type": "text"
      },
      "source": [
        "<a href=\"https://colab.research.google.com/github/ddopazo92/Introduccion_datascience_diego_dopazo/blob/main/libreria%20pandas.ipynb\" target=\"_parent\"><img src=\"https://colab.research.google.com/assets/colab-badge.svg\" alt=\"Open In Colab\"/></a>"
      ]
    },
    {
      "cell_type": "markdown",
      "source": [
        "**Libreria  Panda**"
      ],
      "metadata": {
        "id": "ckvbak0-1bU5"
      }
    },
    {
      "cell_type": "code",
      "source": [
        "import pandas as pd\n",
        "\n",
        "data = pd.Series([1,10,15,20],index=(['a:','b:','c:','d:'])) ##esto crea una serie con cuatro elementos a los cuales se les crea un indice con letras\n",
        "\n",
        "print(data)"
      ],
      "metadata": {
        "colab": {
          "base_uri": "https://localhost:8080/"
        },
        "id": "Iy0cnmw83BG1",
        "outputId": "48688854-9448-4546-8eb0-8a90c3bf243d"
      },
      "execution_count": null,
      "outputs": [
        {
          "output_type": "stream",
          "name": "stdout",
          "text": [
            "a:     1\n",
            "b:    10\n",
            "c:    15\n",
            "d:    20\n",
            "dtype: int64\n"
          ]
        }
      ]
    },
    {
      "cell_type": "code",
      "source": [
        "import pandas as pd\n",
        "\n",
        "datas = {\n",
        "        'Nombre' : ['Ana','Jorge','Roberto','Diego','Federico'],\n",
        "        'Edad' : [30,25,50,33,80],\n",
        "        'Ciudad': ['Montevideo','Buenos Aires','Brasilia','Bogota', 'Santiago'],\n",
        "        }\n",
        "\n",
        "df = pd.DataFrame(datas)\n",
        "\n",
        "print(df,\"\\n\")\n",
        "\n",
        "print(df.loc[2:4,['Nombre','Edad']],\"\\n\") ##el .loc sirve para filtrar, primero toma la/s fila/s, (los dos : separa entre que fila(inclusive) y fila(inclusive) va a seleccionar), seguido a eso elige la/s columna/s que queres filtrar\n",
        "\n",
        "print(df.iloc[2:5,0:2]) ##el .iloc sirve para filtrar pero por numero de fila y numero de columna, y selecciona el primer numero hasta el anterior del segundo numero elegido\n"
      ],
      "metadata": {
        "colab": {
          "base_uri": "https://localhost:8080/"
        },
        "id": "pb0rwE1R8vvV",
        "outputId": "3701f0bb-2200-42a4-e961-5ab03d893265"
      },
      "execution_count": 38,
      "outputs": [
        {
          "output_type": "stream",
          "name": "stdout",
          "text": [
            "     Nombre  Edad        Ciudad\n",
            "0       Ana    30    Montevideo\n",
            "1     Jorge    25  Buenos Aires\n",
            "2   Roberto    50      Brasilia\n",
            "3     Diego    33        Bogota\n",
            "4  Federico    80      Santiago \n",
            "\n",
            "     Nombre  Edad\n",
            "2   Roberto    50\n",
            "3     Diego    33\n",
            "4  Federico    80 \n",
            "\n",
            "     Nombre  Edad\n",
            "2   Roberto    50\n",
            "3     Diego    33\n",
            "4  Federico    80\n"
          ]
        }
      ]
    },
    {
      "cell_type": "markdown",
      "source": [
        "## **Seleccionar persona de menos de 30 que vive en Buenos Aires**"
      ],
      "metadata": {
        "id": "MkyPlNDXdcer"
      }
    },
    {
      "cell_type": "code",
      "source": [
        "\n",
        "menores_30 = df.loc[(df['Edad'] < 30) & (df['Ciudad']== 'Buenos Aires')]\n",
        "\n",
        "mayores_30 = df.loc[(df['Edad'] > 30)]\n",
        "\n",
        "print(menores_30)\n",
        "\n",
        "print(\"\\n\",mayores_30)\n"
      ],
      "metadata": {
        "colab": {
          "base_uri": "https://localhost:8080/"
        },
        "id": "gpdQPrW0d0w2",
        "outputId": "95dfcd02-3a1f-4ecd-dcd5-70085d5e6dbd"
      },
      "execution_count": 37,
      "outputs": [
        {
          "output_type": "stream",
          "name": "stdout",
          "text": [
            "  Nombre  Edad        Ciudad\n",
            "1  Jorge    25  Buenos Aires\n",
            "\n",
            "      Nombre  Edad    Ciudad\n",
            "2   Roberto    50  Brasilia\n",
            "3     Diego    33    Bogota\n",
            "4  Federico    80  Santiago\n"
          ]
        }
      ]
    },
    {
      "cell_type": "code",
      "source": [
        "import numpy as np\n",
        "\n",
        "datos_null = {\n",
        "        'A' : [1,2,np.nan,4], ##nan es una funcion de numpy para poder ingrear datos nulos\n",
        "        'B' : [1,2,3,np.nan],\n",
        "        'C' : [1,np.nan,np.nan,4],\n",
        "        'D' : [1,2,3,4]\n",
        "        }\n",
        "\n",
        "datos_nulos = pd.DataFrame(datos_null)\n",
        "\n",
        "datos_nulos_dropna = datos_nulos.dropna()\n",
        "\n",
        "print(datos_nulos.isnull(),\"\\n\") ##isnull() devuelve un DataFrame de la misma forma que el original, pero con valores booleanos\n",
        "\n",
        "print(datos_nulos_dropna)##dropna elimina las filas con datos nulos, en el resultado te indica la posicion de las filas con datos no nulos en sus columnas\n"
      ],
      "metadata": {
        "id": "1ImTPdtrjCQd",
        "outputId": "5c586ecb-e0ea-4cee-f0f5-de39bc4373e1",
        "colab": {
          "base_uri": "https://localhost:8080/"
        }
      },
      "execution_count": 49,
      "outputs": [
        {
          "output_type": "stream",
          "name": "stdout",
          "text": [
            "       A      B      C      D\n",
            "0  False  False  False  False\n",
            "1  False  False   True  False\n",
            "2   True  False   True  False\n",
            "3  False   True  False  False \n",
            "\n",
            "     A    B    C  D\n",
            "0  1.0  1.0  1.0  1\n"
          ]
        }
      ]
    },
    {
      "cell_type": "markdown",
      "source": [
        "**Arrays con calculos**"
      ],
      "metadata": {
        "id": "VDQ2nV268lYN"
      }
    },
    {
      "cell_type": "code",
      "source": [
        "\n",
        "import numpy as np\n",
        "\n",
        "numero = np.random.randint(0,100,size=(5))\n",
        "media = np.mean(numero)\n",
        "\n",
        "print(numero)\n",
        "print(media)\n",
        "\n",
        "media_falta = media - 50\n",
        "\n",
        "if media > 50:\n",
        " print(media_falta,\": se debe restar eso para que sea 50\")\n",
        "\n",
        "else:\n",
        "  print(media_falta,\": se debe sumar eso para que sea 50\")\n",
        "\n"
      ],
      "metadata": {
        "colab": {
          "base_uri": "https://localhost:8080/"
        },
        "id": "XOXTfthn3e80",
        "outputId": "2705b346-6dc0-4d38-851e-65a690c5311e"
      },
      "execution_count": null,
      "outputs": [
        {
          "output_type": "stream",
          "name": "stdout",
          "text": [
            "[12 85 23 88 34]\n",
            "48.4\n",
            "-1.6000000000000014 : se debe sumar eso para que sea 50\n"
          ]
        }
      ]
    }
  ]
}