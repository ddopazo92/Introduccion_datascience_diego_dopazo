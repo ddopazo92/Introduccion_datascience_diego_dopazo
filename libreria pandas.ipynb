{
  "nbformat": 4,
  "nbformat_minor": 0,
  "metadata": {
    "colab": {
      "provenance": [],
      "authorship_tag": "ABX9TyOwWGSzijejAF2j2L+dKm7C",
      "include_colab_link": true
    },
    "kernelspec": {
      "name": "python3",
      "display_name": "Python 3"
    },
    "language_info": {
      "name": "python"
    }
  },
  "cells": [
    {
      "cell_type": "markdown",
      "metadata": {
        "id": "view-in-github",
        "colab_type": "text"
      },
      "source": [
        "<a href=\"https://colab.research.google.com/github/ddopazo92/Introduccion_datascience_diego_dopazo/blob/main/libreria%20pandas.ipynb\" target=\"_parent\"><img src=\"https://colab.research.google.com/assets/colab-badge.svg\" alt=\"Open In Colab\"/></a>"
      ]
    },
    {
      "cell_type": "markdown",
      "source": [
        "**Libreria  Panda**"
      ],
      "metadata": {
        "id": "ckvbak0-1bU5"
      }
    },
    {
      "cell_type": "code",
      "source": [
        "import pandas as pd\n",
        "\n",
        "data = pd.Series([1,10,15,20],index=(['a:','b:','c:','d:'])) ##esto crea una serie con cuatro elementos a los cuales se les crea un indice con letras\n",
        "\n",
        "print(data)"
      ],
      "metadata": {
        "colab": {
          "base_uri": "https://localhost:8080/"
        },
        "id": "Iy0cnmw83BG1",
        "outputId": "48688854-9448-4546-8eb0-8a90c3bf243d"
      },
      "execution_count": null,
      "outputs": [
        {
          "output_type": "stream",
          "name": "stdout",
          "text": [
            "a:     1\n",
            "b:    10\n",
            "c:    15\n",
            "d:    20\n",
            "dtype: int64\n"
          ]
        }
      ]
    },
    {
      "cell_type": "code",
      "source": [
        "import pandas as pd\n",
        "\n",
        "datas = {\n",
        "        'Nombre' : ['Ana','Jorge','Roberto','Diego','Federico'],\n",
        "        'Edad' : [30,25,50,33,80],\n",
        "        'Ciudad': ['Montevideo','Buenos Aires','Brasilia','Bogota', 'Santiago'],\n",
        "        }\n",
        "\n",
        "df = pd.DataFrame(datas)\n",
        "\n",
        "print(df.loc[2:4,['Nombre', 'Ciudad']]) ##el .loc loquea o selecciona: primero las filas, (los dos : separa entre que fila y fila va a seleccionar), seguido a eso elige la columnas que queres filtrar\n",
        "\n",
        "\n"
      ],
      "metadata": {
        "colab": {
          "base_uri": "https://localhost:8080/"
        },
        "id": "pb0rwE1R8vvV",
        "outputId": "c855aac7-9ab8-4707-b048-2386cf01c0aa"
      },
      "execution_count": 4,
      "outputs": [
        {
          "output_type": "stream",
          "name": "stdout",
          "text": [
            "     Nombre    Ciudad\n",
            "2   Roberto  Brasilia\n",
            "3     Diego    Bogota\n",
            "4  Federico  Santiago\n"
          ]
        }
      ]
    },
    {
      "cell_type": "markdown",
      "source": [
        "**Arrays con calculos**"
      ],
      "metadata": {
        "id": "VDQ2nV268lYN"
      }
    },
    {
      "cell_type": "code",
      "source": [
        "\n",
        "import numpy as np\n",
        "\n",
        "numero = np.random.randint(0,100,size=(5))\n",
        "media = np.mean(numero)\n",
        "\n",
        "print(numero)\n",
        "print(media)\n",
        "\n",
        "media_falta = media - 50\n",
        "\n",
        "if media > 50:\n",
        " print(media_falta,\": se debe restar eso para que sea 50\")\n",
        "\n",
        "else:\n",
        "  print(media_falta,\": se debe sumar eso para que sea 50\")\n",
        "\n"
      ],
      "metadata": {
        "colab": {
          "base_uri": "https://localhost:8080/"
        },
        "id": "XOXTfthn3e80",
        "outputId": "2705b346-6dc0-4d38-851e-65a690c5311e"
      },
      "execution_count": null,
      "outputs": [
        {
          "output_type": "stream",
          "name": "stdout",
          "text": [
            "[12 85 23 88 34]\n",
            "48.4\n",
            "-1.6000000000000014 : se debe sumar eso para que sea 50\n"
          ]
        }
      ]
    }
  ]
}